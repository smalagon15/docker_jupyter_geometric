{
 "cells": [
  {
   "cell_type": "code",
   "execution_count": null,
   "id": "58b0ee66",
   "metadata": {},
   "outputs": [],
   "source": [
    "import pandas as pd\n",
    "import io\n",
    "from Neo4jDriver.nodes import REGISTRY\n",
    "\n",
    "print(REGISTRY)"
   ]
  },
  {
   "cell_type": "code",
   "execution_count": 2,
   "id": "95a6d5cd",
   "metadata": {},
   "outputs": [],
   "source": [
    "dataController = REGISTRY['BlueFinWhales']()"
   ]
  },
  {
   "cell_type": "code",
   "execution_count": 3,
   "id": "1bcd2865",
   "metadata": {},
   "outputs": [],
   "source": [
    "csv_path = \"./data/Blue and fin whales Southern California 2014-2015 - Argos data.csv\"\n",
    "content = None\n",
    "with open(csv_path) as file:\n",
    "    content = file.read()\n",
    "data = io.StringIO(content)\n",
    "data_frame = pd.read_csv(data)\n",
    "data_frame = data_frame[data_frame['location-long'].isnull() != True]\n",
    "records = data_frame.to_dict(orient=\"records\")"
   ]
  },
  {
   "cell_type": "code",
   "execution_count": 4,
   "id": "00adad49",
   "metadata": {},
   "outputs": [
    {
     "name": "stdout",
     "output_type": "stream",
     "text": [
      "4284\n",
      "{'event-id': 13595136965, 'visible': True, 'timestamp': '2014-08-04 21:16:56.000', 'location-long': -119.0726, 'location-lat': 33.99902, 'argos:best-level': -126.0, 'argos:calcul-freq': 401677402.3, 'argos:error-radius': 1720.0, 'argos:gdop': 699.0, 'argos:iq': 48.0, 'argos:lat1': 33.99902, 'argos:lat2': 33.99902, 'argos:lc': '0', 'argos:lon1': -119.0726, 'argos:lon2': -119.0726, 'argos:nb-mes': 4, 'argos:nb-mes-120': 0.0, 'argos:nopc': 3.0, 'argos:sat-id': 'NP', 'argos:semi-major': 8398.0, 'argos:semi-minor': 352.0, 'height-above-ellipsoid': 70.0, 'manually-marked-outlier': nan, 'sensor-type': 'argos-doppler-shift', 'individual-taxon-canonical-name': 'Balaenoptera musculus', 'tag-local-identifier': '2014CA-MK10-05644', 'individual-local-identifier': '2014CA-Bmu-05644', 'study-name': 'Blue and fin whales Southern California 2014-2015 - Argos data'}\n"
     ]
    }
   ],
   "source": [
    "print(len(records))\n",
    "print(records[0])"
   ]
  },
  {
   "cell_type": "code",
   "execution_count": null,
   "id": "9d1cc590",
   "metadata": {},
   "outputs": [],
   "source": [
    "dataController.load_csv(records)"
   ]
  },
  {
   "cell_type": "code",
   "execution_count": null,
   "id": "376d949d",
   "metadata": {},
   "outputs": [],
   "source": []
  },
  {
   "cell_type": "code",
   "execution_count": null,
   "id": "20cdc371",
   "metadata": {},
   "outputs": [],
   "source": []
  }
 ],
 "metadata": {
  "kernelspec": {
   "display_name": "Python 3 (ipykernel)",
   "language": "python",
   "name": "python3"
  },
  "language_info": {
   "codemirror_mode": {
    "name": "ipython",
    "version": 3
   },
   "file_extension": ".py",
   "mimetype": "text/x-python",
   "name": "python",
   "nbconvert_exporter": "python",
   "pygments_lexer": "ipython3",
   "version": "3.7.11"
  }
 },
 "nbformat": 4,
 "nbformat_minor": 5
}
